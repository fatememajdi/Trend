{
 "cells": [
  {
   "cell_type": "code",
   "execution_count": 1,
   "id": "e201eb13",
   "metadata": {},
   "outputs": [],
   "source": [
    "import sys\n",
    "sys.path.append('/Users/fateme/Desktop/CeeNous/Trend/src')\n",
    "from current_trend_code import check_trend_refactored"
   ]
  },
  {
   "cell_type": "code",
   "execution_count": null,
   "id": "a895b0d4",
   "metadata": {},
   "outputs": [],
   "source": [
    "import pandas as pd\n",
    "\n",
    "def Check_Trend(path, col_names):\n",
    "    df = pd.read_excel(path)\n",
    "    df_result = check_trend_refactored(df, col_names=col_names)\n",
    "    return df_result"
   ]
  }
 ],
 "metadata": {
  "kernelspec": {
   "display_name": "Python [conda env:base] *",
   "language": "python",
   "name": "conda-base-py"
  },
  "language_info": {
   "codemirror_mode": {
    "name": "ipython",
    "version": 3
   },
   "file_extension": ".py",
   "mimetype": "text/x-python",
   "name": "python",
   "nbconvert_exporter": "python",
   "pygments_lexer": "ipython3",
   "version": "3.12.2"
  }
 },
 "nbformat": 4,
 "nbformat_minor": 5
}
